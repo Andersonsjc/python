{
 "cells": [
  {
   "cell_type": "code",
   "execution_count": 3,
   "metadata": {},
   "outputs": [
    {
     "name": "stdout",
     "output_type": "stream",
     "text": [
      "39\n",
      "30\n",
      "27\n",
      "18\n"
     ]
    }
   ],
   "source": [
    "idade1 = 39\n",
    "idade2 = 30\n",
    "idade3 = 27\n",
    "idade4 = 18\n",
    "\n",
    "print(idade1)\n",
    "print(idade2)\n",
    "print(idade3)\n",
    "print(idade4)"
   ]
  },
  {
   "cell_type": "code",
   "execution_count": 4,
   "metadata": {},
   "outputs": [
    {
     "data": {
      "text/plain": [
       "list"
      ]
     },
     "execution_count": 4,
     "metadata": {},
     "output_type": "execute_result"
    }
   ],
   "source": [
    "idades = [39,30,27,18]\n",
    "type(idades)"
   ]
  },
  {
   "cell_type": "code",
   "execution_count": 5,
   "metadata": {},
   "outputs": [
    {
     "data": {
      "text/plain": [
       "4"
      ]
     },
     "execution_count": 5,
     "metadata": {},
     "output_type": "execute_result"
    }
   ],
   "source": [
    "len(idades)"
   ]
  },
  {
   "cell_type": "code",
   "execution_count": 6,
   "metadata": {},
   "outputs": [
    {
     "data": {
      "text/plain": [
       "[39, 30, 27, 18]"
      ]
     },
     "execution_count": 6,
     "metadata": {},
     "output_type": "execute_result"
    }
   ],
   "source": [
    "idades"
   ]
  },
  {
   "cell_type": "code",
   "execution_count": 7,
   "metadata": {},
   "outputs": [
    {
     "name": "stdout",
     "output_type": "stream",
     "text": [
      "30\n",
      "27\n",
      "18\n"
     ]
    }
   ],
   "source": [
    "print(idades[1])\n",
    "print(idades[2])\n",
    "print(idades[3])"
   ]
  },
  {
   "cell_type": "code",
   "execution_count": 8,
   "metadata": {},
   "outputs": [],
   "source": [
    "idades.append(15)"
   ]
  },
  {
   "cell_type": "code",
   "execution_count": 9,
   "metadata": {},
   "outputs": [
    {
     "data": {
      "text/plain": [
       "15"
      ]
     },
     "execution_count": 9,
     "metadata": {},
     "output_type": "execute_result"
    }
   ],
   "source": [
    "idades[4]"
   ]
  },
  {
   "cell_type": "code",
   "execution_count": 10,
   "metadata": {},
   "outputs": [
    {
     "name": "stdout",
     "output_type": "stream",
     "text": [
      "39\n",
      "30\n",
      "27\n",
      "18\n",
      "15\n"
     ]
    }
   ],
   "source": [
    "for idade in idades:\n",
    "    print(idade)"
   ]
  },
  {
   "cell_type": "code",
   "execution_count": 11,
   "metadata": {},
   "outputs": [],
   "source": [
    "idades.remove(30)"
   ]
  },
  {
   "cell_type": "code",
   "execution_count": 12,
   "metadata": {},
   "outputs": [
    {
     "data": {
      "text/plain": [
       "[39, 27, 18, 15]"
      ]
     },
     "execution_count": 12,
     "metadata": {},
     "output_type": "execute_result"
    }
   ],
   "source": [
    "idades"
   ]
  },
  {
   "cell_type": "code",
   "execution_count": 13,
   "metadata": {},
   "outputs": [],
   "source": [
    "idades.append(15)"
   ]
  },
  {
   "cell_type": "code",
   "execution_count": 14,
   "metadata": {},
   "outputs": [
    {
     "data": {
      "text/plain": [
       "[39, 27, 18, 15, 15]"
      ]
     },
     "execution_count": 14,
     "metadata": {},
     "output_type": "execute_result"
    }
   ],
   "source": [
    "idades"
   ]
  },
  {
   "cell_type": "code",
   "execution_count": 15,
   "metadata": {},
   "outputs": [
    {
     "data": {
      "text/plain": [
       "False"
      ]
     },
     "execution_count": 15,
     "metadata": {},
     "output_type": "execute_result"
    }
   ],
   "source": [
    "28 in idades"
   ]
  },
  {
   "cell_type": "code",
   "execution_count": 16,
   "metadata": {},
   "outputs": [
    {
     "data": {
      "text/plain": [
       "True"
      ]
     },
     "execution_count": 16,
     "metadata": {},
     "output_type": "execute_result"
    }
   ],
   "source": [
    "15 in idades"
   ]
  },
  {
   "cell_type": "code",
   "execution_count": 17,
   "metadata": {},
   "outputs": [],
   "source": [
    "if 15 in idades:\n",
    "    idades.remove(15)"
   ]
  },
  {
   "cell_type": "code",
   "execution_count": 18,
   "metadata": {},
   "outputs": [
    {
     "data": {
      "text/plain": [
       "[39, 27, 18, 15]"
      ]
     },
     "execution_count": 18,
     "metadata": {},
     "output_type": "execute_result"
    }
   ],
   "source": [
    "idades"
   ]
  },
  {
   "cell_type": "code",
   "execution_count": 19,
   "metadata": {},
   "outputs": [],
   "source": [
    "if 28 in idades:\n",
    "    idades.remove(28)"
   ]
  },
  {
   "cell_type": "code",
   "execution_count": 20,
   "metadata": {},
   "outputs": [
    {
     "data": {
      "text/plain": [
       "[39, 27, 18, 15]"
      ]
     },
     "execution_count": 20,
     "metadata": {},
     "output_type": "execute_result"
    }
   ],
   "source": [
    "idades"
   ]
  },
  {
   "cell_type": "code",
   "execution_count": 21,
   "metadata": {},
   "outputs": [],
   "source": [
    "idades.insert(0,20)"
   ]
  },
  {
   "cell_type": "code",
   "execution_count": 22,
   "metadata": {},
   "outputs": [
    {
     "data": {
      "text/plain": [
       "[20, 39, 27, 18, 15]"
      ]
     },
     "execution_count": 22,
     "metadata": {},
     "output_type": "execute_result"
    }
   ],
   "source": [
    "idades"
   ]
  },
  {
   "cell_type": "code",
   "execution_count": 23,
   "metadata": {},
   "outputs": [],
   "source": [
    "idades.append([27,19])"
   ]
  },
  {
   "cell_type": "code",
   "execution_count": 24,
   "metadata": {},
   "outputs": [
    {
     "data": {
      "text/plain": [
       "[20, 39, 27, 18, 15, [27, 19]]"
      ]
     },
     "execution_count": 24,
     "metadata": {},
     "output_type": "execute_result"
    }
   ],
   "source": [
    "idades"
   ]
  },
  {
   "cell_type": "code",
   "execution_count": 25,
   "metadata": {},
   "outputs": [
    {
     "name": "stdout",
     "output_type": "stream",
     "text": [
      "Recebi o elemento 20\n",
      "Recebi o elemento 39\n",
      "Recebi o elemento 27\n",
      "Recebi o elemento 18\n",
      "Recebi o elemento 15\n",
      "Recebi o elemento [27, 19]\n"
     ]
    }
   ],
   "source": [
    "for elemento in idades:\n",
    "    print('Recebi o elemento', elemento)"
   ]
  },
  {
   "cell_type": "code",
   "execution_count": 28,
   "metadata": {},
   "outputs": [],
   "source": [
    "idades.remove([27,19])\n",
    "\n",
    "idades.extend([27,19])"
   ]
  },
  {
   "cell_type": "code",
   "execution_count": 29,
   "metadata": {},
   "outputs": [
    {
     "data": {
      "text/plain": [
       "[20, 39, 27, 18, 15, 27, 19, 27, 19]"
      ]
     },
     "execution_count": 29,
     "metadata": {},
     "output_type": "execute_result"
    }
   ],
   "source": [
    "idades"
   ]
  },
  {
   "cell_type": "code",
   "execution_count": 30,
   "metadata": {},
   "outputs": [
    {
     "data": {
      "text/plain": [
       "[21, 40, 28, 19, 16, 28, 20, 28, 20]"
      ]
     },
     "execution_count": 30,
     "metadata": {},
     "output_type": "execute_result"
    }
   ],
   "source": [
    "idades_no_ano_que_vem = []\n",
    "for idade in idades:\n",
    "    idades_no_ano_que_vem.append(idade + 1)\n",
    "    \n",
    "idades_no_ano_que_vem"
   ]
  },
  {
   "cell_type": "code",
   "execution_count": 31,
   "metadata": {},
   "outputs": [
    {
     "data": {
      "text/plain": [
       "[21, 40, 28, 19, 16, 28, 20, 28, 20]"
      ]
     },
     "execution_count": 31,
     "metadata": {},
     "output_type": "execute_result"
    }
   ],
   "source": [
    "idades_no_ano_que_vem = [(idade+1) for idade in idades]\n",
    "idades_no_ano_que_vem"
   ]
  },
  {
   "cell_type": "code",
   "execution_count": 32,
   "metadata": {},
   "outputs": [
    {
     "data": {
      "text/plain": [
       "[39, 27, 27, 27]"
      ]
     },
     "execution_count": 32,
     "metadata": {},
     "output_type": "execute_result"
    }
   ],
   "source": [
    "[(idade) for idade in idades if idade > 21]"
   ]
  },
  {
   "cell_type": "code",
   "execution_count": 33,
   "metadata": {},
   "outputs": [
    {
     "data": {
      "text/plain": [
       "[20, 39, 27, 18, 15, 27, 19, 27, 19]"
      ]
     },
     "execution_count": 33,
     "metadata": {},
     "output_type": "execute_result"
    }
   ],
   "source": [
    "idades"
   ]
  },
  {
   "cell_type": "code",
   "execution_count": 34,
   "metadata": {},
   "outputs": [
    {
     "data": {
      "text/plain": [
       "[40, 28, 28, 28]"
      ]
     },
     "execution_count": 34,
     "metadata": {},
     "output_type": "execute_result"
    }
   ],
   "source": [
    "def proximo_ano(idade):\n",
    "    return idade+1\n",
    "\n",
    "[proximo_ano(idade) for idade in idades if idade > 21]"
   ]
  },
  {
   "cell_type": "code",
   "execution_count": 35,
   "metadata": {},
   "outputs": [
    {
     "name": "stdout",
     "output_type": "stream",
     "text": [
      "5\n"
     ]
    },
    {
     "data": {
      "text/plain": [
       "[16, 21, 29, 56, 43, 13]"
      ]
     },
     "execution_count": 35,
     "metadata": {},
     "output_type": "execute_result"
    }
   ],
   "source": [
    "# problemas com a multabilidade\n",
    "def faz_processamento_de_visualizacao(lista):\n",
    "    print(len(lista))\n",
    "    lista.append(13)\n",
    "    \n",
    "idades = [16, 21, 29, 56, 43]\n",
    "faz_processamento_de_visualizacao(idades)\n",
    "idades"
   ]
  },
  {
   "cell_type": "code",
   "execution_count": 39,
   "metadata": {},
   "outputs": [],
   "source": [
    "def faz_processamento_de_visualizacao(lista = []):\n",
    "    print(len(lista))\n",
    "    lista.append(13)"
   ]
  },
  {
   "cell_type": "code",
   "execution_count": 40,
   "metadata": {},
   "outputs": [
    {
     "name": "stdout",
     "output_type": "stream",
     "text": [
      "0\n"
     ]
    }
   ],
   "source": [
    "faz_processamento_de_visualizacao()"
   ]
  },
  {
   "cell_type": "code",
   "execution_count": 41,
   "metadata": {},
   "outputs": [
    {
     "name": "stdout",
     "output_type": "stream",
     "text": [
      "1\n"
     ]
    }
   ],
   "source": [
    "faz_processamento_de_visualizacao()"
   ]
  },
  {
   "cell_type": "code",
   "execution_count": 42,
   "metadata": {},
   "outputs": [
    {
     "name": "stdout",
     "output_type": "stream",
     "text": [
      "2\n"
     ]
    }
   ],
   "source": [
    "faz_processamento_de_visualizacao()"
   ]
  },
  {
   "cell_type": "code",
   "execution_count": 43,
   "metadata": {},
   "outputs": [],
   "source": [
    "def faz_processamento_de_visualizacao(lista = None):\n",
    "    if lista == None:\n",
    "        lista = list()\n",
    "    print(len(lista))\n",
    "    print(lista)\n",
    "    lista.append(13)"
   ]
  },
  {
   "cell_type": "code",
   "execution_count": 44,
   "metadata": {},
   "outputs": [
    {
     "name": "stdout",
     "output_type": "stream",
     "text": [
      "0\n",
      "[]\n",
      "0\n",
      "[]\n",
      "0\n",
      "[]\n"
     ]
    }
   ],
   "source": [
    "faz_processamento_de_visualizacao()\n",
    "faz_processamento_de_visualizacao()\n",
    "faz_processamento_de_visualizacao()"
   ]
  },
  {
   "cell_type": "code",
   "execution_count": 68,
   "metadata": {},
   "outputs": [],
   "source": [
    "class ContaCorrente:\n",
    "    def __init__(self, codigo):\n",
    "        self.codigo = codigo\n",
    "        self.saldo = 0\n",
    "    \n",
    "    def deposita(self, valor):\n",
    "        self.saldo += valor\n",
    "\n",
    "    def __str__(self):\n",
    "        return \"[>>Codigo {} Saldo {}<<]\".format(self.codigo, self.saldo)"
   ]
  },
  {
   "cell_type": "code",
   "execution_count": 69,
   "metadata": {},
   "outputs": [
    {
     "name": "stdout",
     "output_type": "stream",
     "text": [
      "[>>Codigo 15 Saldo 0<<]\n"
     ]
    }
   ],
   "source": [
    "conta_do_gui = ContaCorrente(15)\n",
    "print(conta_do_gui)"
   ]
  },
  {
   "cell_type": "code",
   "execution_count": 70,
   "metadata": {},
   "outputs": [],
   "source": [
    "conta_do_gui.deposita(500)"
   ]
  },
  {
   "cell_type": "code",
   "execution_count": 71,
   "metadata": {},
   "outputs": [
    {
     "name": "stdout",
     "output_type": "stream",
     "text": [
      "[>>Codigo 15 Saldo 500<<]\n"
     ]
    }
   ],
   "source": [
    "print(conta_do_gui)"
   ]
  },
  {
   "cell_type": "code",
   "execution_count": 73,
   "metadata": {},
   "outputs": [
    {
     "name": "stdout",
     "output_type": "stream",
     "text": [
      "[>>Codigo 4566 Saldo 1000<<]\n"
     ]
    }
   ],
   "source": [
    "conta_da_dani = ContaCorrente(4566)\n",
    "conta_da_dani.deposita(1000)\n",
    "print(conta_da_dani)"
   ]
  },
  {
   "cell_type": "code",
   "execution_count": 74,
   "metadata": {},
   "outputs": [
    {
     "name": "stdout",
     "output_type": "stream",
     "text": [
      "[<__main__.ContaCorrente object at 0x000001B44F687DD8>, <__main__.ContaCorrente object at 0x000001B44F6877B8>]\n"
     ]
    }
   ],
   "source": [
    "contas = [conta_do_gui, conta_da_dani]\n",
    "print(contas)"
   ]
  },
  {
   "cell_type": "code",
   "execution_count": 75,
   "metadata": {},
   "outputs": [
    {
     "name": "stdout",
     "output_type": "stream",
     "text": [
      "[>>Codigo 15 Saldo 500<<]\n",
      "[>>Codigo 4566 Saldo 1000<<]\n"
     ]
    }
   ],
   "source": [
    "for conta in contas:\n",
    "    print(conta)"
   ]
  },
  {
   "cell_type": "code",
   "execution_count": 79,
   "metadata": {},
   "outputs": [
    {
     "name": "stdout",
     "output_type": "stream",
     "text": [
      "[>>Codigo 15 Saldo 600<<]\n"
     ]
    }
   ],
   "source": [
    "print(contas[0])"
   ]
  },
  {
   "cell_type": "code",
   "execution_count": 80,
   "metadata": {},
   "outputs": [],
   "source": [
    "conta_do_gui.deposita(100)"
   ]
  },
  {
   "cell_type": "code",
   "execution_count": 78,
   "metadata": {},
   "outputs": [
    {
     "name": "stdout",
     "output_type": "stream",
     "text": [
      "[>>Codigo 15 Saldo 600<<]\n"
     ]
    }
   ],
   "source": [
    "print(conta_do_gui)"
   ]
  },
  {
   "cell_type": "code",
   "execution_count": 81,
   "metadata": {},
   "outputs": [
    {
     "name": "stdout",
     "output_type": "stream",
     "text": [
      "[>>Codigo 15 Saldo 700<<]\n"
     ]
    }
   ],
   "source": [
    "print(contas[0])"
   ]
  },
  {
   "cell_type": "code",
   "execution_count": 82,
   "metadata": {},
   "outputs": [
    {
     "name": "stdout",
     "output_type": "stream",
     "text": [
      "[>>Codigo 15 Saldo 700<<] [>>Codigo 4566 Saldo 1000<<]\n",
      "[>>Codigo 15 Saldo 800<<] [>>Codigo 4566 Saldo 1100<<]\n"
     ]
    }
   ],
   "source": [
    "def deposita_para_todas(contas):\n",
    "    for conta in contas:\n",
    "        conta.deposita(100)\n",
    "        \n",
    "contas = [conta_do_gui, conta_da_dani]\n",
    "print(contas[0], contas[1])\n",
    "deposita_para_todas(contas)\n",
    "print(contas[0], contas[1])"
   ]
  },
  {
   "cell_type": "code",
   "execution_count": 83,
   "metadata": {},
   "outputs": [
    {
     "name": "stdout",
     "output_type": "stream",
     "text": [
      "76 [>>Codigo 15 Saldo 800<<] [>>Codigo 4566 Saldo 1100<<]\n"
     ]
    }
   ],
   "source": [
    "contas.insert(0,76)\n",
    "print(contas[0], contas[1], contas[2])"
   ]
  },
  {
   "cell_type": "code",
   "execution_count": 84,
   "metadata": {},
   "outputs": [
    {
     "ename": "AttributeError",
     "evalue": "'int' object has no attribute 'deposita'",
     "output_type": "error",
     "traceback": [
      "\u001b[1;31m---------------------------------------------------------------------------\u001b[0m",
      "\u001b[1;31mAttributeError\u001b[0m                            Traceback (most recent call last)",
      "\u001b[1;32m<ipython-input-84-92ac4487eece>\u001b[0m in \u001b[0;36m<module>\u001b[1;34m\u001b[0m\n\u001b[1;32m----> 1\u001b[1;33m \u001b[0mdeposita_para_todas\u001b[0m\u001b[1;33m(\u001b[0m\u001b[0mcontas\u001b[0m\u001b[1;33m)\u001b[0m\u001b[1;33m\u001b[0m\u001b[1;33m\u001b[0m\u001b[0m\n\u001b[0m\u001b[0;32m      2\u001b[0m \u001b[0mprint\u001b[0m\u001b[1;33m(\u001b[0m\u001b[0mcontas\u001b[0m\u001b[1;33m[\u001b[0m\u001b[1;36m0\u001b[0m\u001b[1;33m]\u001b[0m\u001b[1;33m,\u001b[0m \u001b[0mcontas\u001b[0m\u001b[1;33m[\u001b[0m\u001b[1;36m1\u001b[0m\u001b[1;33m]\u001b[0m\u001b[1;33m,\u001b[0m \u001b[0mcontas\u001b[0m\u001b[1;33m[\u001b[0m\u001b[1;36m2\u001b[0m\u001b[1;33m]\u001b[0m\u001b[1;33m)\u001b[0m\u001b[1;33m\u001b[0m\u001b[1;33m\u001b[0m\u001b[0m\n",
      "\u001b[1;32m<ipython-input-82-c5bf1e48e4c7>\u001b[0m in \u001b[0;36mdeposita_para_todas\u001b[1;34m(contas)\u001b[0m\n\u001b[0;32m      1\u001b[0m \u001b[1;32mdef\u001b[0m \u001b[0mdeposita_para_todas\u001b[0m\u001b[1;33m(\u001b[0m\u001b[0mcontas\u001b[0m\u001b[1;33m)\u001b[0m\u001b[1;33m:\u001b[0m\u001b[1;33m\u001b[0m\u001b[1;33m\u001b[0m\u001b[0m\n\u001b[0;32m      2\u001b[0m     \u001b[1;32mfor\u001b[0m \u001b[0mconta\u001b[0m \u001b[1;32min\u001b[0m \u001b[0mcontas\u001b[0m\u001b[1;33m:\u001b[0m\u001b[1;33m\u001b[0m\u001b[1;33m\u001b[0m\u001b[0m\n\u001b[1;32m----> 3\u001b[1;33m         \u001b[0mconta\u001b[0m\u001b[1;33m.\u001b[0m\u001b[0mdeposita\u001b[0m\u001b[1;33m(\u001b[0m\u001b[1;36m100\u001b[0m\u001b[1;33m)\u001b[0m\u001b[1;33m\u001b[0m\u001b[1;33m\u001b[0m\u001b[0m\n\u001b[0m\u001b[0;32m      4\u001b[0m \u001b[1;33m\u001b[0m\u001b[0m\n\u001b[0;32m      5\u001b[0m \u001b[0mcontas\u001b[0m \u001b[1;33m=\u001b[0m \u001b[1;33m[\u001b[0m\u001b[0mconta_do_gui\u001b[0m\u001b[1;33m,\u001b[0m \u001b[0mconta_da_dani\u001b[0m\u001b[1;33m]\u001b[0m\u001b[1;33m\u001b[0m\u001b[1;33m\u001b[0m\u001b[0m\n",
      "\u001b[1;31mAttributeError\u001b[0m: 'int' object has no attribute 'deposita'"
     ]
    }
   ],
   "source": [
    "deposita_para_todas(contas)\n",
    "print(contas[0], contas[1], contas[2])"
   ]
  },
  {
   "cell_type": "code",
   "execution_count": 85,
   "metadata": {},
   "outputs": [
    {
     "data": {
      "text/plain": [
       "[76,\n",
       " <__main__.ContaCorrente at 0x1b44f687dd8>,\n",
       " <__main__.ContaCorrente at 0x1b44f6877b8>]"
      ]
     },
     "execution_count": 85,
     "metadata": {},
     "output_type": "execute_result"
    }
   ],
   "source": [
    "contas"
   ]
  },
  {
   "cell_type": "code",
   "execution_count": 86,
   "metadata": {},
   "outputs": [],
   "source": [
    "guilherme = ('Guilherme', 37, 1981) # tupla\n",
    "daniela = ('Daniela', 31, 1987)\n",
    "# paulo = (39, 'Paulo', 1979) # ruim"
   ]
  },
  {
   "cell_type": "code",
   "execution_count": 87,
   "metadata": {},
   "outputs": [
    {
     "ename": "AttributeError",
     "evalue": "'tuple' object has no attribute 'append'",
     "output_type": "error",
     "traceback": [
      "\u001b[1;31m---------------------------------------------------------------------------\u001b[0m",
      "\u001b[1;31mAttributeError\u001b[0m                            Traceback (most recent call last)",
      "\u001b[1;32m<ipython-input-87-b58a3f93fa55>\u001b[0m in \u001b[0;36m<module>\u001b[1;34m\u001b[0m\n\u001b[1;32m----> 1\u001b[1;33m \u001b[0mguilherme\u001b[0m\u001b[1;33m.\u001b[0m\u001b[0mappend\u001b[0m\u001b[1;33m(\u001b[0m\u001b[1;36m6754\u001b[0m\u001b[1;33m)\u001b[0m\u001b[1;33m\u001b[0m\u001b[1;33m\u001b[0m\u001b[0m\n\u001b[0m",
      "\u001b[1;31mAttributeError\u001b[0m: 'tuple' object has no attribute 'append'"
     ]
    }
   ],
   "source": [
    "guilherme.append(6754)"
   ]
  },
  {
   "cell_type": "code",
   "execution_count": 88,
   "metadata": {},
   "outputs": [
    {
     "data": {
      "text/plain": [
       "1000"
      ]
     },
     "execution_count": 88,
     "metadata": {},
     "output_type": "execute_result"
    }
   ],
   "source": [
    "conta_do_gui = (15, 1000)\n",
    "# conta_do_gui.deposita() # variação OO\n",
    "conta_do_gui[1]"
   ]
  },
  {
   "cell_type": "code",
   "execution_count": 89,
   "metadata": {},
   "outputs": [
    {
     "ename": "TypeError",
     "evalue": "'tuple' object does not support item assignment",
     "output_type": "error",
     "traceback": [
      "\u001b[1;31m---------------------------------------------------------------------------\u001b[0m",
      "\u001b[1;31mTypeError\u001b[0m                                 Traceback (most recent call last)",
      "\u001b[1;32m<ipython-input-89-b6479b2fecd6>\u001b[0m in \u001b[0;36m<module>\u001b[1;34m\u001b[0m\n\u001b[1;32m----> 1\u001b[1;33m \u001b[0mconta_do_gui\u001b[0m\u001b[1;33m[\u001b[0m\u001b[1;36m1\u001b[0m\u001b[1;33m]\u001b[0m \u001b[1;33m+=\u001b[0m \u001b[1;36m100\u001b[0m\u001b[1;33m\u001b[0m\u001b[1;33m\u001b[0m\u001b[0m\n\u001b[0m",
      "\u001b[1;31mTypeError\u001b[0m: 'tuple' object does not support item assignment"
     ]
    }
   ],
   "source": [
    "conta_do_gui[1] += 100"
   ]
  },
  {
   "cell_type": "code",
   "execution_count": 90,
   "metadata": {},
   "outputs": [],
   "source": [
    "def deposita(conta): # variação \"funcional\"(separando o comportamento dos dados)\n",
    "  novo_saldo = conta[1] + 100\n",
    "  codigo = conta[0]\n",
    "  return (codigo, novo_saldo)"
   ]
  },
  {
   "cell_type": "code",
   "execution_count": 91,
   "metadata": {},
   "outputs": [
    {
     "data": {
      "text/plain": [
       "(15, 1100)"
      ]
     },
     "execution_count": 91,
     "metadata": {},
     "output_type": "execute_result"
    }
   ],
   "source": [
    "deposita(conta_do_gui)"
   ]
  },
  {
   "cell_type": "code",
   "execution_count": 92,
   "metadata": {},
   "outputs": [
    {
     "data": {
      "text/plain": [
       "(15, 1000)"
      ]
     },
     "execution_count": 92,
     "metadata": {},
     "output_type": "execute_result"
    }
   ],
   "source": [
    "conta_do_gui"
   ]
  },
  {
   "cell_type": "code",
   "execution_count": 93,
   "metadata": {},
   "outputs": [
    {
     "data": {
      "text/plain": [
       "(15, 1100)"
      ]
     },
     "execution_count": 93,
     "metadata": {},
     "output_type": "execute_result"
    }
   ],
   "source": [
    "conta_do_gui = deposita(conta_do_gui)\n",
    "conta_do_gui"
   ]
  },
  {
   "cell_type": "code",
   "execution_count": 94,
   "metadata": {},
   "outputs": [
    {
     "data": {
      "text/plain": [
       "[('Guilherme', 37, 1981), ('Daniela', 31, 1987)]"
      ]
     },
     "execution_count": 94,
     "metadata": {},
     "output_type": "execute_result"
    }
   ],
   "source": [
    "usuarios = [guilherme, daniela]\n",
    "usuarios"
   ]
  },
  {
   "cell_type": "code",
   "execution_count": 95,
   "metadata": {},
   "outputs": [],
   "source": [
    "usuarios.append(('Paulo', 39, 1979))"
   ]
  },
  {
   "cell_type": "code",
   "execution_count": 96,
   "metadata": {},
   "outputs": [
    {
     "data": {
      "text/plain": [
       "[('Guilherme', 37, 1981), ('Daniela', 31, 1987), ('Paulo', 39, 1979)]"
      ]
     },
     "execution_count": 96,
     "metadata": {},
     "output_type": "execute_result"
    }
   ],
   "source": [
    "usuarios"
   ]
  },
  {
   "cell_type": "code",
   "execution_count": 97,
   "metadata": {},
   "outputs": [
    {
     "ename": "TypeError",
     "evalue": "'tuple' object does not support item assignment",
     "output_type": "error",
     "traceback": [
      "\u001b[1;31m---------------------------------------------------------------------------\u001b[0m",
      "\u001b[1;31mTypeError\u001b[0m                                 Traceback (most recent call last)",
      "\u001b[1;32m<ipython-input-97-dc00118821b7>\u001b[0m in \u001b[0;36m<module>\u001b[1;34m\u001b[0m\n\u001b[1;32m----> 1\u001b[1;33m \u001b[0musuarios\u001b[0m\u001b[1;33m[\u001b[0m\u001b[1;36m0\u001b[0m\u001b[1;33m]\u001b[0m\u001b[1;33m[\u001b[0m\u001b[1;36m0\u001b[0m\u001b[1;33m]\u001b[0m \u001b[1;33m=\u001b[0m \u001b[1;34m'Guilherme Silveira'\u001b[0m\u001b[1;33m\u001b[0m\u001b[1;33m\u001b[0m\u001b[0m\n\u001b[0m",
      "\u001b[1;31mTypeError\u001b[0m: 'tuple' object does not support item assignment"
     ]
    }
   ],
   "source": [
    "usuarios[0][0] = 'Guilherme Silveira'"
   ]
  },
  {
   "cell_type": "code",
   "execution_count": 98,
   "metadata": {},
   "outputs": [],
   "source": [
    "conta_do_gui = ContaCorrente(15)\n",
    "conta_do_gui.deposita(500)\n",
    "conta_da_dani = ContaCorrente(234876)\n",
    "conta_da_dani.deposita(1000)"
   ]
  },
  {
   "cell_type": "code",
   "execution_count": 99,
   "metadata": {},
   "outputs": [],
   "source": [
    "contas = (conta_do_gui, conta_da_dani)"
   ]
  },
  {
   "cell_type": "code",
   "execution_count": 100,
   "metadata": {},
   "outputs": [
    {
     "name": "stdout",
     "output_type": "stream",
     "text": [
      "[>>Codigo 15 Saldo 500<<]\n",
      "[>>Codigo 234876 Saldo 1000<<]\n"
     ]
    }
   ],
   "source": [
    "for conta in contas:\n",
    "  print(conta)\n"
   ]
  },
  {
   "cell_type": "code",
   "execution_count": 101,
   "metadata": {},
   "outputs": [
    {
     "ename": "AttributeError",
     "evalue": "'tuple' object has no attribute 'append'",
     "output_type": "error",
     "traceback": [
      "\u001b[1;31m---------------------------------------------------------------------------\u001b[0m",
      "\u001b[1;31mAttributeError\u001b[0m                            Traceback (most recent call last)",
      "\u001b[1;32m<ipython-input-101-2a440e860371>\u001b[0m in \u001b[0;36m<module>\u001b[1;34m\u001b[0m\n\u001b[1;32m----> 1\u001b[1;33m \u001b[0mcontas\u001b[0m\u001b[1;33m.\u001b[0m\u001b[0mappend\u001b[0m\u001b[1;33m(\u001b[0m\u001b[1;36m423768\u001b[0m\u001b[1;33m)\u001b[0m\u001b[1;33m\u001b[0m\u001b[1;33m\u001b[0m\u001b[0m\n\u001b[0m",
      "\u001b[1;31mAttributeError\u001b[0m: 'tuple' object has no attribute 'append'"
     ]
    }
   ],
   "source": [
    "contas.append(423768)\n"
   ]
  },
  {
   "cell_type": "code",
   "execution_count": 102,
   "metadata": {},
   "outputs": [],
   "source": [
    "contas[0].deposita(300)"
   ]
  },
  {
   "cell_type": "code",
   "execution_count": 103,
   "metadata": {},
   "outputs": [
    {
     "name": "stdout",
     "output_type": "stream",
     "text": [
      "[>>Codigo 15 Saldo 800<<]\n",
      "[>>Codigo 234876 Saldo 1000<<]\n"
     ]
    }
   ],
   "source": [
    "for conta in contas:\n",
    "  print(conta)"
   ]
  },
  {
   "cell_type": "code",
   "execution_count": 104,
   "metadata": {},
   "outputs": [
    {
     "data": {
      "text/plain": [
       "'# Herança e polimorfismo'"
      ]
     },
     "execution_count": 104,
     "metadata": {},
     "output_type": "execute_result"
    }
   ],
   "source": [
    "\"\"\"# Herança e polimorfismo\"\"\""
   ]
  },
  {
   "cell_type": "code",
   "execution_count": 105,
   "metadata": {},
   "outputs": [],
   "source": [
    "from abc import ABCMeta, abstractmethod\n",
    "class Conta(metaclass=ABCMeta):\n",
    "  \n",
    "  def __init__(self, codigo):\n",
    "    self._codigo = codigo\n",
    "    self._saldo = 0\n",
    "\n",
    "  def deposita(self, valor):\n",
    "    self._saldo += valor\n",
    "\n",
    "  @abstractmethod\n",
    "  def passa_o_mes(self):\n",
    "    pass\n",
    "\n",
    "  def __str__(self):\n",
    "    return \"[>>Codigo {} Saldo {}<<]\".format(self._codigo, self._saldo)"
   ]
  },
  {
   "cell_type": "code",
   "execution_count": 106,
   "metadata": {},
   "outputs": [
    {
     "ename": "TypeError",
     "evalue": "Can't instantiate abstract class Conta with abstract methods passa_o_mes",
     "output_type": "error",
     "traceback": [
      "\u001b[1;31m---------------------------------------------------------------------------\u001b[0m",
      "\u001b[1;31mTypeError\u001b[0m                                 Traceback (most recent call last)",
      "\u001b[1;32m<ipython-input-106-bcabbe50454b>\u001b[0m in \u001b[0;36m<module>\u001b[1;34m\u001b[0m\n\u001b[1;32m----> 1\u001b[1;33m \u001b[0mprint\u001b[0m\u001b[1;33m(\u001b[0m\u001b[0mConta\u001b[0m\u001b[1;33m(\u001b[0m\u001b[1;36m88\u001b[0m\u001b[1;33m)\u001b[0m\u001b[1;33m)\u001b[0m\u001b[1;33m\u001b[0m\u001b[1;33m\u001b[0m\u001b[0m\n\u001b[0m",
      "\u001b[1;31mTypeError\u001b[0m: Can't instantiate abstract class Conta with abstract methods passa_o_mes"
     ]
    }
   ],
   "source": [
    "print(Conta(88))\n"
   ]
  },
  {
   "cell_type": "code",
   "execution_count": 107,
   "metadata": {},
   "outputs": [],
   "source": [
    "class ContaCorrente(Conta):\n",
    "  \n",
    "  def passa_o_mes(self):\n",
    "    self._saldo -= 2\n",
    "    \n",
    "class ContaPoupanca(Conta):\n",
    "  \n",
    "  def passa_o_mes(self):\n",
    "    self._saldo *= 1.01\n",
    "    self._saldo -= 3\n",
    "\n",
    "class ContaInvestimento(Conta):\n",
    "  pass"
   ]
  },
  {
   "cell_type": "code",
   "execution_count": 108,
   "metadata": {},
   "outputs": [
    {
     "ename": "TypeError",
     "evalue": "Can't instantiate abstract class ContaInvestimento with abstract methods passa_o_mes",
     "output_type": "error",
     "traceback": [
      "\u001b[1;31m---------------------------------------------------------------------------\u001b[0m",
      "\u001b[1;31mTypeError\u001b[0m                                 Traceback (most recent call last)",
      "\u001b[1;32m<ipython-input-108-88113fa11745>\u001b[0m in \u001b[0;36m<module>\u001b[1;34m\u001b[0m\n\u001b[1;32m----> 1\u001b[1;33m \u001b[0mContaInvestimento\u001b[0m\u001b[1;33m(\u001b[0m\u001b[1;36m764\u001b[0m\u001b[1;33m)\u001b[0m\u001b[1;33m\u001b[0m\u001b[1;33m\u001b[0m\u001b[0m\n\u001b[0m",
      "\u001b[1;31mTypeError\u001b[0m: Can't instantiate abstract class ContaInvestimento with abstract methods passa_o_mes"
     ]
    }
   ],
   "source": [
    "ContaInvestimento(764)\n"
   ]
  },
  {
   "cell_type": "code",
   "execution_count": 109,
   "metadata": {},
   "outputs": [
    {
     "name": "stdout",
     "output_type": "stream",
     "text": [
      "[>>Codigo 16 Saldo 998<<]\n"
     ]
    }
   ],
   "source": [
    "conta16 = ContaCorrente(16)\n",
    "conta16.deposita(1000)\n",
    "conta16.passa_o_mes()\n",
    "print(conta16)"
   ]
  },
  {
   "cell_type": "code",
   "execution_count": 110,
   "metadata": {},
   "outputs": [
    {
     "name": "stdout",
     "output_type": "stream",
     "text": [
      "[>>Codigo 17 Saldo 1007.0<<]\n"
     ]
    }
   ],
   "source": [
    "conta17 = ContaPoupanca(17)\n",
    "conta17.deposita(1000)\n",
    "conta17.passa_o_mes()\n",
    "print(conta17)\n"
   ]
  },
  {
   "cell_type": "code",
   "execution_count": 111,
   "metadata": {},
   "outputs": [],
   "source": [
    "conta16 = ContaCorrente(16)\n",
    "conta16.deposita(1000)\n",
    "conta17 = ContaPoupanca(17)\n",
    "conta17.deposita(1000)\n",
    "contas = [conta16, conta17]"
   ]
  },
  {
   "cell_type": "code",
   "execution_count": 112,
   "metadata": {},
   "outputs": [
    {
     "name": "stdout",
     "output_type": "stream",
     "text": [
      "[>>Codigo 16 Saldo 998<<]\n",
      "[>>Codigo 17 Saldo 1007.0<<]\n"
     ]
    }
   ],
   "source": [
    "for conta in contas:\n",
    "  conta.passa_o_mes() # duck typing\n",
    "  print(conta)"
   ]
  },
  {
   "cell_type": "code",
   "execution_count": 113,
   "metadata": {},
   "outputs": [
    {
     "data": {
      "text/plain": [
       "'# evitaremos usar array puro. se precisamos de trabalho numérico, é costume usar o numpy'"
      ]
     },
     "execution_count": 113,
     "metadata": {},
     "output_type": "execute_result"
    }
   ],
   "source": [
    "\"\"\"# evitaremos usar array puro. se precisamos de trabalho numérico, é costume usar o numpy\"\"\"\n"
   ]
  },
  {
   "cell_type": "code",
   "execution_count": 115,
   "metadata": {},
   "outputs": [
    {
     "data": {
      "text/plain": [
       "array('d', [1.0, 3.5])"
      ]
     },
     "execution_count": 115,
     "metadata": {},
     "output_type": "execute_result"
    }
   ],
   "source": [
    "import array as arr\n",
    "\n",
    "arr.array('d', [1, 3.5])"
   ]
  },
  {
   "cell_type": "code",
   "execution_count": 116,
   "metadata": {},
   "outputs": [
    {
     "ename": "TypeError",
     "evalue": "must be real number, not str",
     "output_type": "error",
     "traceback": [
      "\u001b[1;31m---------------------------------------------------------------------------\u001b[0m",
      "\u001b[1;31mTypeError\u001b[0m                                 Traceback (most recent call last)",
      "\u001b[1;32m<ipython-input-116-b1a4380a9c4e>\u001b[0m in \u001b[0;36m<module>\u001b[1;34m\u001b[0m\n\u001b[1;32m----> 1\u001b[1;33m \u001b[0marr\u001b[0m\u001b[1;33m.\u001b[0m\u001b[0marray\u001b[0m\u001b[1;33m(\u001b[0m\u001b[1;34m'd'\u001b[0m\u001b[1;33m,\u001b[0m \u001b[1;33m[\u001b[0m\u001b[1;36m1\u001b[0m\u001b[1;33m,\u001b[0m \u001b[1;36m3.5\u001b[0m\u001b[1;33m,\u001b[0m \u001b[1;34m'Guilherme'\u001b[0m\u001b[1;33m]\u001b[0m\u001b[1;33m)\u001b[0m\u001b[1;33m\u001b[0m\u001b[1;33m\u001b[0m\u001b[0m\n\u001b[0m",
      "\u001b[1;31mTypeError\u001b[0m: must be real number, not str"
     ]
    }
   ],
   "source": [
    "arr.array('d', [1, 3.5, 'Guilherme'])"
   ]
  },
  {
   "cell_type": "code",
   "execution_count": 118,
   "metadata": {},
   "outputs": [
    {
     "name": "stdout",
     "output_type": "stream",
     "text": [
      "Requirement already satisfied: numpy in c:\\users\\andeson\\anaconda3\\lib\\site-packages (1.16.4)\n"
     ]
    }
   ],
   "source": [
    "!pip install numpy\n"
   ]
  },
  {
   "cell_type": "code",
   "execution_count": 119,
   "metadata": {},
   "outputs": [],
   "source": [
    "import numpy as np"
   ]
  },
  {
   "cell_type": "code",
   "execution_count": 121,
   "metadata": {},
   "outputs": [
    {
     "data": {
      "text/plain": [
       "array([1. , 3.5])"
      ]
     },
     "execution_count": 121,
     "metadata": {},
     "output_type": "execute_result"
    }
   ],
   "source": [
    "numeros = np.array([1, 3.5])\n",
    "numeros"
   ]
  },
  {
   "cell_type": "code",
   "execution_count": 122,
   "metadata": {},
   "outputs": [
    {
     "data": {
      "text/plain": [
       "array([4. , 6.5])"
      ]
     },
     "execution_count": 122,
     "metadata": {},
     "output_type": "execute_result"
    }
   ],
   "source": [
    "numeros + 3"
   ]
  },
  {
   "cell_type": "code",
   "execution_count": 123,
   "metadata": {},
   "outputs": [],
   "source": [
    "#__eq__ igualdade\n"
   ]
  },
  {
   "cell_type": "code",
   "execution_count": 124,
   "metadata": {},
   "outputs": [],
   "source": [
    "class ContaSalario:\n",
    "  \n",
    "  def __init__(self, codigo):\n",
    "    self._codigo = codigo\n",
    "    self._saldo = 0\n",
    "  \n",
    "  def deposita(self, valor):\n",
    "    self._saldo += valor\n",
    "    \n",
    "  def __str__(self):\n",
    "    return \"[>>Codigo {} Saldo {}<<]\".format(self._codigo, self._saldo)"
   ]
  },
  {
   "cell_type": "code",
   "execution_count": 125,
   "metadata": {},
   "outputs": [
    {
     "name": "stdout",
     "output_type": "stream",
     "text": [
      "[>>Codigo 37 Saldo 0<<]\n",
      "[>>Codigo 37 Saldo 0<<]\n"
     ]
    }
   ],
   "source": [
    "conta1 = ContaSalario(37)\n",
    "print(conta1)\n",
    "\n",
    "conta2 = ContaSalario(37)\n",
    "print(conta2)"
   ]
  },
  {
   "cell_type": "code",
   "execution_count": 126,
   "metadata": {},
   "outputs": [
    {
     "data": {
      "text/plain": [
       "False"
      ]
     },
     "execution_count": 126,
     "metadata": {},
     "output_type": "execute_result"
    }
   ],
   "source": [
    "conta1 == conta2\n"
   ]
  },
  {
   "cell_type": "code",
   "execution_count": 127,
   "metadata": {},
   "outputs": [
    {
     "data": {
      "text/plain": [
       "True"
      ]
     },
     "execution_count": 127,
     "metadata": {},
     "output_type": "execute_result"
    }
   ],
   "source": [
    "contas = [conta1]\n",
    "conta1 in contas"
   ]
  },
  {
   "cell_type": "code",
   "execution_count": 128,
   "metadata": {},
   "outputs": [
    {
     "data": {
      "text/plain": [
       "False"
      ]
     },
     "execution_count": 128,
     "metadata": {},
     "output_type": "execute_result"
    }
   ],
   "source": [
    "conta2 in contas\n"
   ]
  },
  {
   "cell_type": "code",
   "execution_count": 129,
   "metadata": {},
   "outputs": [],
   "source": [
    "class ContaSalario:\n",
    "  \n",
    "  def __init__(self, codigo):\n",
    "    self._codigo = codigo\n",
    "    self._saldo = 0\n",
    "    \n",
    "  def __eq__(self, outro):\n",
    "    return self._codigo == outro._codigo\n",
    "  \n",
    "  def deposita(self, valor):\n",
    "    self._saldo += valor\n",
    "    \n",
    "  def __str__(self):\n",
    "    return \"[>>Codigo {} Saldo {}<<]\".format(self._codigo, self._saldo)"
   ]
  },
  {
   "cell_type": "code",
   "execution_count": 130,
   "metadata": {},
   "outputs": [
    {
     "data": {
      "text/plain": [
       "True"
      ]
     },
     "execution_count": 130,
     "metadata": {},
     "output_type": "execute_result"
    }
   ],
   "source": [
    "conta1 = ContaSalario(37)\n",
    "conta2 = ContaSalario(37)\n",
    "conta1 == conta2"
   ]
  },
  {
   "cell_type": "code",
   "execution_count": 131,
   "metadata": {},
   "outputs": [
    {
     "data": {
      "text/plain": [
       "False"
      ]
     },
     "execution_count": 131,
     "metadata": {},
     "output_type": "execute_result"
    }
   ],
   "source": [
    "conta1 != conta2\n"
   ]
  },
  {
   "cell_type": "code",
   "execution_count": 132,
   "metadata": {},
   "outputs": [
    {
     "data": {
      "text/plain": [
       "True"
      ]
     },
     "execution_count": 132,
     "metadata": {},
     "output_type": "execute_result"
    }
   ],
   "source": [
    "conta1 in [conta2]"
   ]
  },
  {
   "cell_type": "code",
   "execution_count": 133,
   "metadata": {},
   "outputs": [
    {
     "data": {
      "text/plain": [
       "True"
      ]
     },
     "execution_count": 133,
     "metadata": {},
     "output_type": "execute_result"
    }
   ],
   "source": [
    "conta2 in [conta1]"
   ]
  },
  {
   "cell_type": "code",
   "execution_count": 134,
   "metadata": {},
   "outputs": [],
   "source": [
    "class ContaSalario:\n",
    "  \n",
    "  def __init__(self, codigo):\n",
    "    self._codigo = codigo\n",
    "    self._saldo = 0\n",
    "    \n",
    "  def __eq__(self, outro):\n",
    "    return self._codigo == outro._codigo and self._saldo == outro._saldo\n",
    "  \n",
    "  def deposita(self, valor):\n",
    "    self._saldo += valor\n",
    "    \n",
    "  def __str__(self):\n",
    "    return \"[>>Codigo {} Saldo {}<<]\".format(self._codigo, self._saldo)"
   ]
  },
  {
   "cell_type": "code",
   "execution_count": 135,
   "metadata": {},
   "outputs": [
    {
     "data": {
      "text/plain": [
       "True"
      ]
     },
     "execution_count": 135,
     "metadata": {},
     "output_type": "execute_result"
    }
   ],
   "source": [
    "conta1 = ContaSalario(37)\n",
    "conta2 = ContaSalario(37)\n",
    "conta1 == conta2"
   ]
  },
  {
   "cell_type": "code",
   "execution_count": 136,
   "metadata": {},
   "outputs": [],
   "source": [
    "conta1.deposita(10)"
   ]
  },
  {
   "cell_type": "code",
   "execution_count": 137,
   "metadata": {},
   "outputs": [
    {
     "data": {
      "text/plain": [
       "False"
      ]
     },
     "execution_count": 137,
     "metadata": {},
     "output_type": "execute_result"
    }
   ],
   "source": [
    "conta1 == conta2"
   ]
  },
  {
   "cell_type": "code",
   "execution_count": 138,
   "metadata": {},
   "outputs": [],
   "source": [
    "class ContaSalario:\n",
    "  \n",
    "  def __init__(self, codigo):\n",
    "    self._codigo = codigo\n",
    "    self._saldo = 0\n",
    "    \n",
    "  def __eq__(self, outro):\n",
    "    if type(outro) != ContaSalario:\n",
    "      return False\n",
    "    \n",
    "    return self._codigo == outro._codigo and self._saldo == outro._saldo\n",
    "  \n",
    "  def deposita(self, valor):\n",
    "    self._saldo += valor\n",
    "    \n",
    "  def __str__(self):\n",
    "    return \"[>>Codigo {} Saldo {}<<]\".format(self._codigo, self._saldo)"
   ]
  },
  {
   "cell_type": "code",
   "execution_count": 139,
   "metadata": {},
   "outputs": [],
   "source": [
    "conta1 = ContaSalario(37)\n",
    "conta2 = ContaCorrente(37)"
   ]
  },
  {
   "cell_type": "code",
   "execution_count": 140,
   "metadata": {},
   "outputs": [
    {
     "data": {
      "text/plain": [
       "False"
      ]
     },
     "execution_count": 140,
     "metadata": {},
     "output_type": "execute_result"
    }
   ],
   "source": [
    "conta1 == conta2"
   ]
  },
  {
   "cell_type": "code",
   "execution_count": 141,
   "metadata": {},
   "outputs": [
    {
     "data": {
      "text/plain": [
       "True"
      ]
     },
     "execution_count": 141,
     "metadata": {},
     "output_type": "execute_result"
    }
   ],
   "source": [
    "isinstance(ContaCorrente(34), ContaCorrente)"
   ]
  },
  {
   "cell_type": "code",
   "execution_count": 142,
   "metadata": {},
   "outputs": [
    {
     "data": {
      "text/plain": [
       "True"
      ]
     },
     "execution_count": 142,
     "metadata": {},
     "output_type": "execute_result"
    }
   ],
   "source": [
    "isinstance(ContaCorrente(34), Conta)"
   ]
  },
  {
   "cell_type": "code",
   "execution_count": 143,
   "metadata": {},
   "outputs": [],
   "source": [
    "#range , enumerate, list"
   ]
  },
  {
   "cell_type": "code",
   "execution_count": 144,
   "metadata": {},
   "outputs": [],
   "source": [
    "idades = [15, 87, 32, 65, 56, 32, 49, 37]"
   ]
  },
  {
   "cell_type": "code",
   "execution_count": 145,
   "metadata": {},
   "outputs": [
    {
     "name": "stdout",
     "output_type": "stream",
     "text": [
      "0 15\n",
      "1 87\n",
      "2 32\n",
      "3 65\n",
      "4 56\n",
      "5 32\n",
      "6 49\n",
      "7 37\n"
     ]
    }
   ],
   "source": [
    "for i in range(len(idades)):\n",
    "  print(i, idades[i])"
   ]
  },
  {
   "cell_type": "code",
   "execution_count": 146,
   "metadata": {},
   "outputs": [
    {
     "data": {
      "text/plain": [
       "range(0, 8)"
      ]
     },
     "execution_count": 146,
     "metadata": {},
     "output_type": "execute_result"
    }
   ],
   "source": [
    "range(len(idades)) # lazy..."
   ]
  },
  {
   "cell_type": "code",
   "execution_count": 147,
   "metadata": {},
   "outputs": [
    {
     "data": {
      "text/plain": [
       "<enumerate at 0x1b44f6595a0>"
      ]
     },
     "execution_count": 147,
     "metadata": {},
     "output_type": "execute_result"
    }
   ],
   "source": [
    "enumerate(idades) # lazy"
   ]
  },
  {
   "cell_type": "code",
   "execution_count": 148,
   "metadata": {},
   "outputs": [
    {
     "data": {
      "text/plain": [
       "[0, 1, 2, 3, 4, 5, 6, 7]"
      ]
     },
     "execution_count": 148,
     "metadata": {},
     "output_type": "execute_result"
    }
   ],
   "source": [
    "list(range(len(idades))) # forcei a geração dos valores"
   ]
  },
  {
   "cell_type": "code",
   "execution_count": 149,
   "metadata": {},
   "outputs": [
    {
     "data": {
      "text/plain": [
       "[(0, 15), (1, 87), (2, 32), (3, 65), (4, 56), (5, 32), (6, 49), (7, 37)]"
      ]
     },
     "execution_count": 149,
     "metadata": {},
     "output_type": "execute_result"
    }
   ],
   "source": [
    "list(enumerate(idades))"
   ]
  },
  {
   "cell_type": "code",
   "execution_count": 150,
   "metadata": {},
   "outputs": [
    {
     "name": "stdout",
     "output_type": "stream",
     "text": [
      "0 x 15\n",
      "1 x 87\n",
      "2 x 32\n",
      "3 x 65\n",
      "4 x 56\n",
      "5 x 32\n",
      "6 x 49\n",
      "7 x 37\n"
     ]
    }
   ],
   "source": [
    "for indice, idade in enumerate(idades): # unpacking da nossa tupla\n",
    "  print(indice, \"x\", idade)"
   ]
  },
  {
   "cell_type": "code",
   "execution_count": 151,
   "metadata": {},
   "outputs": [],
   "source": [
    "usuarios = [\n",
    "    (\"Guilherme\", 37, 1981),\n",
    "    (\"Daniela\", 31, 1987),\n",
    "    (\"Paulo\", 39, 1979)\n",
    "]"
   ]
  },
  {
   "cell_type": "code",
   "execution_count": 152,
   "metadata": {},
   "outputs": [
    {
     "name": "stdout",
     "output_type": "stream",
     "text": [
      "Guilherme\n",
      "Daniela\n",
      "Paulo\n"
     ]
    }
   ],
   "source": [
    "for nome, idade, nascimento in usuarios: # ja desempacotando\n",
    "  print(nome)"
   ]
  },
  {
   "cell_type": "code",
   "execution_count": 153,
   "metadata": {},
   "outputs": [
    {
     "name": "stdout",
     "output_type": "stream",
     "text": [
      "Guilherme\n",
      "Daniela\n",
      "Paulo\n"
     ]
    }
   ],
   "source": [
    "for nome, _, _ in usuarios: # ja desempacotando, ignorando o resto\n",
    "  print(nome)"
   ]
  },
  {
   "cell_type": "code",
   "execution_count": 155,
   "metadata": {},
   "outputs": [],
   "source": [
    "#ordernacao sorted , reversed ou objeto.sort()"
   ]
  },
  {
   "cell_type": "code",
   "execution_count": 156,
   "metadata": {},
   "outputs": [
    {
     "data": {
      "text/plain": [
       "[15, 87, 32, 65, 56, 32, 49, 37]"
      ]
     },
     "execution_count": 156,
     "metadata": {},
     "output_type": "execute_result"
    }
   ],
   "source": [
    "idades"
   ]
  },
  {
   "cell_type": "code",
   "execution_count": 157,
   "metadata": {},
   "outputs": [
    {
     "data": {
      "text/plain": [
       "[15, 32, 32, 37, 49, 56, 65, 87]"
      ]
     },
     "execution_count": 157,
     "metadata": {},
     "output_type": "execute_result"
    }
   ],
   "source": [
    "sorted(idades)"
   ]
  },
  {
   "cell_type": "code",
   "execution_count": 158,
   "metadata": {},
   "outputs": [
    {
     "data": {
      "text/plain": [
       "True"
      ]
     },
     "execution_count": 158,
     "metadata": {},
     "output_type": "execute_result"
    }
   ],
   "source": [
    "15 < 32"
   ]
  },
  {
   "cell_type": "code",
   "execution_count": 159,
   "metadata": {},
   "outputs": [
    {
     "data": {
      "text/plain": [
       "[37, 49, 32, 56, 65, 32, 87, 15]"
      ]
     },
     "execution_count": 159,
     "metadata": {},
     "output_type": "execute_result"
    }
   ],
   "source": [
    "list(reversed(idades))"
   ]
  },
  {
   "cell_type": "code",
   "execution_count": 160,
   "metadata": {},
   "outputs": [
    {
     "data": {
      "text/plain": [
       "[87, 65, 56, 49, 37, 32, 32, 15]"
      ]
     },
     "execution_count": 160,
     "metadata": {},
     "output_type": "execute_result"
    }
   ],
   "source": [
    "sorted(idades, reverse=True)"
   ]
  },
  {
   "cell_type": "code",
   "execution_count": 161,
   "metadata": {},
   "outputs": [
    {
     "data": {
      "text/plain": [
       "[87, 65, 56, 49, 37, 32, 32, 15]"
      ]
     },
     "execution_count": 161,
     "metadata": {},
     "output_type": "execute_result"
    }
   ],
   "source": [
    "list(reversed(sorted(idades)))"
   ]
  },
  {
   "cell_type": "code",
   "execution_count": 162,
   "metadata": {},
   "outputs": [
    {
     "data": {
      "text/plain": [
       "[15, 87, 32, 65, 56, 32, 49, 37]"
      ]
     },
     "execution_count": 162,
     "metadata": {},
     "output_type": "execute_result"
    }
   ],
   "source": [
    "idades"
   ]
  },
  {
   "cell_type": "code",
   "execution_count": 163,
   "metadata": {},
   "outputs": [],
   "source": [
    "idades.sort()"
   ]
  },
  {
   "cell_type": "code",
   "execution_count": 164,
   "metadata": {},
   "outputs": [
    {
     "data": {
      "text/plain": [
       "[15, 32, 32, 37, 49, 56, 65, 87]"
      ]
     },
     "execution_count": 164,
     "metadata": {},
     "output_type": "execute_result"
    }
   ],
   "source": [
    "idades"
   ]
  },
  {
   "cell_type": "code",
   "execution_count": 167,
   "metadata": {},
   "outputs": [],
   "source": [
    "nomes = [\"Guilherme\", \"Daniela\", \"Paulo\"]"
   ]
  },
  {
   "cell_type": "code",
   "execution_count": 168,
   "metadata": {},
   "outputs": [
    {
     "data": {
      "text/plain": [
       "['Daniela', 'Guilherme', 'Paulo']"
      ]
     },
     "execution_count": 168,
     "metadata": {},
     "output_type": "execute_result"
    }
   ],
   "source": [
    "sorted(nomes)"
   ]
  },
  {
   "cell_type": "code",
   "execution_count": 169,
   "metadata": {},
   "outputs": [],
   "source": [
    "nomes = [\"guilherme\", \"Daniela\", \"Paulo\"]"
   ]
  },
  {
   "cell_type": "code",
   "execution_count": 170,
   "metadata": {},
   "outputs": [
    {
     "data": {
      "text/plain": [
       "['Daniela', 'Paulo', 'guilherme']"
      ]
     },
     "execution_count": 170,
     "metadata": {},
     "output_type": "execute_result"
    }
   ],
   "source": [
    "sorted(nomes)"
   ]
  },
  {
   "cell_type": "code",
   "execution_count": 171,
   "metadata": {},
   "outputs": [],
   "source": [
    "class ContaSalario:\n",
    "  \n",
    "  def __init__(self, codigo):\n",
    "    self._codigo = codigo\n",
    "    self._saldo = 0\n",
    "    \n",
    "  def __eq__(self, outro):\n",
    "    if type(outro) != ContaSalario:\n",
    "      return False\n",
    "    \n",
    "    return self._codigo == outro._codigo and self._saldo == outro._saldo\n",
    "  \n",
    "  def deposita(self, valor):\n",
    "    self._saldo += valor\n",
    "    \n",
    "  def __str__(self):\n",
    "    return \"[>>Codigo {} Saldo {}<<]\".format(self._codigo, self._saldo)"
   ]
  },
  {
   "cell_type": "code",
   "execution_count": 172,
   "metadata": {},
   "outputs": [
    {
     "name": "stdout",
     "output_type": "stream",
     "text": [
      "[>>Codigo 17 Saldo 500<<]\n",
      "[>>Codigo 3 Saldo 1000<<]\n",
      "[>>Codigo 133 Saldo 510<<]\n"
     ]
    }
   ],
   "source": [
    "conta_do_guilherme = ContaSalario(17)\n",
    "conta_do_guilherme.deposita(500)\n",
    "\n",
    "conta_da_daniela = ContaSalario(3)\n",
    "conta_da_daniela.deposita(1000)\n",
    "\n",
    "conta_do_paulo = ContaSalario(133)\n",
    "conta_do_paulo.deposita(510)\n",
    "\n",
    "contas = [conta_do_guilherme, conta_da_daniela, conta_do_paulo]\n",
    "\n",
    "for conta in contas:\n",
    "  print(conta)"
   ]
  },
  {
   "cell_type": "code",
   "execution_count": 173,
   "metadata": {},
   "outputs": [
    {
     "ename": "TypeError",
     "evalue": "'<' not supported between instances of 'ContaSalario' and 'ContaSalario'",
     "output_type": "error",
     "traceback": [
      "\u001b[1;31m---------------------------------------------------------------------------\u001b[0m",
      "\u001b[1;31mTypeError\u001b[0m                                 Traceback (most recent call last)",
      "\u001b[1;32m<ipython-input-173-df7230969aa4>\u001b[0m in \u001b[0;36m<module>\u001b[1;34m\u001b[0m\n\u001b[1;32m----> 1\u001b[1;33m \u001b[0msorted\u001b[0m\u001b[1;33m(\u001b[0m\u001b[0mcontas\u001b[0m\u001b[1;33m)\u001b[0m\u001b[1;33m\u001b[0m\u001b[1;33m\u001b[0m\u001b[0m\n\u001b[0m",
      "\u001b[1;31mTypeError\u001b[0m: '<' not supported between instances of 'ContaSalario' and 'ContaSalario'"
     ]
    }
   ],
   "source": [
    "sorted(contas)"
   ]
  },
  {
   "cell_type": "code",
   "execution_count": 174,
   "metadata": {},
   "outputs": [
    {
     "ename": "TypeError",
     "evalue": "'<' not supported between instances of 'ContaSalario' and 'ContaSalario'",
     "output_type": "error",
     "traceback": [
      "\u001b[1;31m---------------------------------------------------------------------------\u001b[0m",
      "\u001b[1;31mTypeError\u001b[0m                                 Traceback (most recent call last)",
      "\u001b[1;32m<ipython-input-174-23ebe804144a>\u001b[0m in \u001b[0;36m<module>\u001b[1;34m\u001b[0m\n\u001b[1;32m----> 1\u001b[1;33m \u001b[0mconta_do_guilherme\u001b[0m \u001b[1;33m<\u001b[0m \u001b[0mconta_da_daniela\u001b[0m\u001b[1;33m\u001b[0m\u001b[1;33m\u001b[0m\u001b[0m\n\u001b[0m",
      "\u001b[1;31mTypeError\u001b[0m: '<' not supported between instances of 'ContaSalario' and 'ContaSalario'"
     ]
    }
   ],
   "source": [
    "conta_do_guilherme < conta_da_daniela"
   ]
  },
  {
   "cell_type": "code",
   "execution_count": 175,
   "metadata": {},
   "outputs": [],
   "source": [
    "def extrai_saldo(conta):\n",
    "  return conta._saldo"
   ]
  },
  {
   "cell_type": "code",
   "execution_count": 176,
   "metadata": {},
   "outputs": [
    {
     "name": "stdout",
     "output_type": "stream",
     "text": [
      "[>>Codigo 17 Saldo 500<<]\n",
      "[>>Codigo 133 Saldo 510<<]\n",
      "[>>Codigo 3 Saldo 1000<<]\n"
     ]
    }
   ],
   "source": [
    "for conta in sorted(contas, key=extrai_saldo):\n",
    "  print(conta)"
   ]
  },
  {
   "cell_type": "code",
   "execution_count": 177,
   "metadata": {},
   "outputs": [
    {
     "name": "stdout",
     "output_type": "stream",
     "text": [
      "[>>Codigo 17 Saldo 500<<]\n",
      "[>>Codigo 133 Saldo 510<<]\n",
      "[>>Codigo 3 Saldo 1000<<]\n"
     ]
    }
   ],
   "source": [
    "from operator import attrgetter\n",
    "\n",
    "for conta in sorted(contas, key=attrgetter(\"_saldo\")):\n",
    "  print(conta)"
   ]
  },
  {
   "cell_type": "code",
   "execution_count": 178,
   "metadata": {},
   "outputs": [
    {
     "ename": "TypeError",
     "evalue": "'<' not supported between instances of 'ContaSalario' and 'ContaSalario'",
     "output_type": "error",
     "traceback": [
      "\u001b[1;31m---------------------------------------------------------------------------\u001b[0m",
      "\u001b[1;31mTypeError\u001b[0m                                 Traceback (most recent call last)",
      "\u001b[1;32m<ipython-input-178-23ebe804144a>\u001b[0m in \u001b[0;36m<module>\u001b[1;34m\u001b[0m\n\u001b[1;32m----> 1\u001b[1;33m \u001b[0mconta_do_guilherme\u001b[0m \u001b[1;33m<\u001b[0m \u001b[0mconta_da_daniela\u001b[0m\u001b[1;33m\u001b[0m\u001b[1;33m\u001b[0m\u001b[0m\n\u001b[0m",
      "\u001b[1;31mTypeError\u001b[0m: '<' not supported between instances of 'ContaSalario' and 'ContaSalario'"
     ]
    }
   ],
   "source": [
    "conta_do_guilherme < conta_da_daniela"
   ]
  },
  {
   "cell_type": "code",
   "execution_count": 179,
   "metadata": {},
   "outputs": [],
   "source": [
    "class ContaSalario:\n",
    "  \n",
    "  def __init__(self, codigo):\n",
    "    self._codigo = codigo\n",
    "    self._saldo = 0\n",
    "    \n",
    "  def __eq__(self, outro):\n",
    "    if type(outro) != ContaSalario:\n",
    "      return False\n",
    "    \n",
    "    return self._codigo == outro._codigo and self._saldo == outro._saldo\n",
    "  \n",
    "  def __lt__(self, outro):\n",
    "    return self._saldo < outro._saldo\n",
    "  \n",
    "  def deposita(self, valor):\n",
    "    self._saldo += valor\n",
    "    \n",
    "  def __str__(self):\n",
    "    return \"[>>Codigo {} Saldo {}<<]\".format(self._codigo, self._saldo)"
   ]
  },
  {
   "cell_type": "code",
   "execution_count": 180,
   "metadata": {},
   "outputs": [],
   "source": [
    "conta_do_guilherme = ContaSalario(17)\n",
    "conta_do_guilherme.deposita(500)\n",
    "\n",
    "conta_da_daniela = ContaSalario(3)\n",
    "conta_da_daniela.deposita(1000)\n",
    "\n",
    "conta_do_paulo = ContaSalario(133)\n",
    "conta_do_paulo.deposita(510)\n",
    "\n",
    "contas = [conta_do_guilherme, conta_da_daniela, conta_do_paulo]"
   ]
  },
  {
   "cell_type": "code",
   "execution_count": 181,
   "metadata": {},
   "outputs": [
    {
     "data": {
      "text/plain": [
       "True"
      ]
     },
     "execution_count": 181,
     "metadata": {},
     "output_type": "execute_result"
    }
   ],
   "source": [
    "conta_do_guilherme < conta_da_daniela"
   ]
  },
  {
   "cell_type": "code",
   "execution_count": 182,
   "metadata": {},
   "outputs": [
    {
     "data": {
      "text/plain": [
       "False"
      ]
     },
     "execution_count": 182,
     "metadata": {},
     "output_type": "execute_result"
    }
   ],
   "source": [
    "conta_do_guilherme > conta_da_daniela"
   ]
  },
  {
   "cell_type": "code",
   "execution_count": 183,
   "metadata": {},
   "outputs": [
    {
     "name": "stdout",
     "output_type": "stream",
     "text": [
      "[>>Codigo 17 Saldo 500<<]\n",
      "[>>Codigo 133 Saldo 510<<]\n",
      "[>>Codigo 3 Saldo 1000<<]\n"
     ]
    }
   ],
   "source": [
    "for conta in sorted(contas):\n",
    "  print(conta)"
   ]
  },
  {
   "cell_type": "code",
   "execution_count": 184,
   "metadata": {},
   "outputs": [
    {
     "name": "stdout",
     "output_type": "stream",
     "text": [
      "[>>Codigo 3 Saldo 1000<<]\n",
      "[>>Codigo 133 Saldo 510<<]\n",
      "[>>Codigo 17 Saldo 500<<]\n"
     ]
    }
   ],
   "source": [
    "for conta in sorted(contas,reverse=True):\n",
    "  print(conta)"
   ]
  },
  {
   "cell_type": "code",
   "execution_count": 185,
   "metadata": {},
   "outputs": [],
   "source": [
    "conta_do_guilherme = ContaSalario(1700)\n",
    "conta_do_guilherme.deposita(500)\n",
    "\n",
    "conta_da_daniela = ContaSalario(3)\n",
    "conta_da_daniela.deposita(1000)\n",
    "\n",
    "conta_do_paulo = ContaSalario(133)\n",
    "conta_do_paulo.deposita(500)"
   ]
  },
  {
   "cell_type": "code",
   "execution_count": 186,
   "metadata": {},
   "outputs": [],
   "source": [
    "contas = [conta_do_guilherme, conta_da_daniela, conta_do_paulo]"
   ]
  },
  {
   "cell_type": "code",
   "execution_count": 187,
   "metadata": {},
   "outputs": [
    {
     "name": "stdout",
     "output_type": "stream",
     "text": [
      "[>>Codigo 133 Saldo 500<<]\n",
      "[>>Codigo 1700 Saldo 500<<]\n",
      "[>>Codigo 3 Saldo 1000<<]\n"
     ]
    }
   ],
   "source": [
    "for conta in sorted(contas, key=attrgetter(\"_saldo\", \"_codigo\")):\n",
    "  print(conta)"
   ]
  },
  {
   "cell_type": "code",
   "execution_count": 188,
   "metadata": {},
   "outputs": [],
   "source": [
    "conta_do_guilherme = ContaSalario(1700)\n",
    "conta_do_guilherme.deposita(500)\n",
    "\n",
    "conta_da_daniela = ContaSalario(3)\n",
    "conta_da_daniela.deposita(500)\n",
    "\n",
    "conta_do_paulo = ContaSalario(133)\n",
    "conta_do_paulo.deposita(500)\n",
    "\n",
    "contas = [conta_do_guilherme, conta_da_daniela, conta_do_paulo]"
   ]
  },
  {
   "cell_type": "code",
   "execution_count": 189,
   "metadata": {},
   "outputs": [
    {
     "name": "stdout",
     "output_type": "stream",
     "text": [
      "[>>Codigo 3 Saldo 500<<]\n",
      "[>>Codigo 133 Saldo 500<<]\n",
      "[>>Codigo 1700 Saldo 500<<]\n"
     ]
    }
   ],
   "source": [
    "for conta in sorted(contas, key=attrgetter(\"_saldo\", \"_codigo\")):\n",
    "  print(conta)"
   ]
  },
  {
   "cell_type": "code",
   "execution_count": 190,
   "metadata": {},
   "outputs": [],
   "source": [
    "class ContaSalario:\n",
    "  \n",
    "  def __init__(self, codigo):\n",
    "    self._codigo = codigo\n",
    "    self._saldo = 0\n",
    "    \n",
    "  def __eq__(self, outro):\n",
    "    if type(outro) != ContaSalario:\n",
    "      return False\n",
    "    \n",
    "    return self._codigo == outro._codigo and self._saldo == outro._saldo\n",
    "  \n",
    "  def __lt__(self, outro):\n",
    "    if self._saldo != outro._saldo:\n",
    "      return self._saldo < outro._saldo\n",
    "    \n",
    "    return self._codigo < outro._codigo\n",
    "  \n",
    "  def deposita(self, valor):\n",
    "    self._saldo += valor\n",
    "    \n",
    "  def __str__(self):\n",
    "    return \"[>>Codigo {} Saldo {}<<]\".format(self._codigo, self._saldo)"
   ]
  },
  {
   "cell_type": "code",
   "execution_count": 191,
   "metadata": {},
   "outputs": [],
   "source": [
    "conta_do_guilherme = ContaSalario(1700)\n",
    "conta_do_guilherme.deposita(500)\n",
    "\n",
    "conta_da_daniela = ContaSalario(3)\n",
    "conta_da_daniela.deposita(500)\n",
    "\n",
    "conta_do_paulo = ContaSalario(133)\n",
    "conta_do_paulo.deposita(500)\n",
    "\n",
    "contas = [conta_do_guilherme, conta_da_daniela, conta_do_paulo]"
   ]
  },
  {
   "cell_type": "code",
   "execution_count": 192,
   "metadata": {},
   "outputs": [
    {
     "name": "stdout",
     "output_type": "stream",
     "text": [
      "[>>Codigo 3 Saldo 500<<]\n",
      "[>>Codigo 133 Saldo 500<<]\n",
      "[>>Codigo 1700 Saldo 500<<]\n"
     ]
    }
   ],
   "source": [
    "for conta in sorted(contas):\n",
    "  print(conta)"
   ]
  },
  {
   "cell_type": "code",
   "execution_count": 193,
   "metadata": {},
   "outputs": [],
   "source": [
    "conta_do_guilherme = ContaSalario(1700)\n",
    "conta_do_guilherme.deposita(500)\n",
    "\n",
    "conta_da_daniela = ContaSalario(3)\n",
    "conta_da_daniela.deposita(1000)\n",
    "\n",
    "conta_do_paulo = ContaSalario(133)\n",
    "conta_do_paulo.deposita(500)\n",
    "\n",
    "contas = [conta_do_guilherme, conta_da_daniela, conta_do_paulo]"
   ]
  },
  {
   "cell_type": "code",
   "execution_count": 194,
   "metadata": {},
   "outputs": [
    {
     "name": "stdout",
     "output_type": "stream",
     "text": [
      "[>>Codigo 133 Saldo 500<<]\n",
      "[>>Codigo 1700 Saldo 500<<]\n",
      "[>>Codigo 3 Saldo 1000<<]\n"
     ]
    }
   ],
   "source": [
    "for conta in sorted(contas):\n",
    "  print(conta)"
   ]
  },
  {
   "cell_type": "code",
   "execution_count": 195,
   "metadata": {},
   "outputs": [
    {
     "data": {
      "text/plain": [
       "True"
      ]
     },
     "execution_count": 195,
     "metadata": {},
     "output_type": "execute_result"
    }
   ],
   "source": [
    "conta_do_guilherme < conta_da_daniela"
   ]
  },
  {
   "cell_type": "code",
   "execution_count": 196,
   "metadata": {},
   "outputs": [
    {
     "ename": "TypeError",
     "evalue": "'<=' not supported between instances of 'ContaSalario' and 'ContaSalario'",
     "output_type": "error",
     "traceback": [
      "\u001b[1;31m---------------------------------------------------------------------------\u001b[0m",
      "\u001b[1;31mTypeError\u001b[0m                                 Traceback (most recent call last)",
      "\u001b[1;32m<ipython-input-196-5f6d4259fd98>\u001b[0m in \u001b[0;36m<module>\u001b[1;34m\u001b[0m\n\u001b[1;32m----> 1\u001b[1;33m \u001b[0mconta_do_guilherme\u001b[0m \u001b[1;33m<=\u001b[0m \u001b[0mconta_da_daniela\u001b[0m\u001b[1;33m\u001b[0m\u001b[1;33m\u001b[0m\u001b[0m\n\u001b[0m",
      "\u001b[1;31mTypeError\u001b[0m: '<=' not supported between instances of 'ContaSalario' and 'ContaSalario'"
     ]
    }
   ],
   "source": [
    "conta_do_guilherme <= conta_da_daniela"
   ]
  },
  {
   "cell_type": "code",
   "execution_count": 205,
   "metadata": {},
   "outputs": [],
   "source": [
    "from functools import total_ordering\n",
    "\n",
    "@total_ordering\n",
    "class ContaSalario:\n",
    "  \n",
    "  def __init__(self, codigo):\n",
    "    self._codigo = codigo\n",
    "    self._saldo = 0\n",
    "    \n",
    "  def __eq__(self, outro):\n",
    "    if type(outro) != ContaSalario:\n",
    "      return False\n",
    "    \n",
    "    return self._codigo == outro._codigo and self._saldo == outro._saldo\n",
    "  \n",
    "  def __lt__(self, outro):\n",
    "    if self._saldo != outro._saldo:\n",
    "      return self._saldo < outro._saldo\n",
    "    \n",
    "    return self._codigo < outro._codigo\n",
    "  \n",
    "  def deposita(self, valor):\n",
    "    self._saldo += valor\n",
    "    \n",
    "  def __str__(self):\n",
    "    return \"[>>Codigo {} Saldo {}<<]\".format(self._codigo, self._saldo)"
   ]
  },
  {
   "cell_type": "code",
   "execution_count": 206,
   "metadata": {},
   "outputs": [],
   "source": [
    "conta_do_guilherme = ContaSalario(1700)\n",
    "conta_do_guilherme.deposita(500)\n",
    "\n",
    "conta_da_daniela = ContaSalario(3)\n",
    "conta_da_daniela.deposita(1000)\n",
    "\n",
    "conta_do_paulo = ContaSalario(133)\n",
    "conta_do_paulo.deposita(500)\n",
    "\n",
    "contas = [conta_do_guilherme, conta_da_daniela, conta_do_paulo]"
   ]
  },
  {
   "cell_type": "code",
   "execution_count": 199,
   "metadata": {},
   "outputs": [
    {
     "data": {
      "text/plain": [
       "True"
      ]
     },
     "execution_count": 199,
     "metadata": {},
     "output_type": "execute_result"
    }
   ],
   "source": [
    "conta_do_guilherme <= conta_da_daniela"
   ]
  },
  {
   "cell_type": "code",
   "execution_count": 200,
   "metadata": {},
   "outputs": [
    {
     "data": {
      "text/plain": [
       "False"
      ]
     },
     "execution_count": 200,
     "metadata": {},
     "output_type": "execute_result"
    }
   ],
   "source": [
    "conta_do_guilherme <= conta_do_paulo"
   ]
  },
  {
   "cell_type": "code",
   "execution_count": 201,
   "metadata": {},
   "outputs": [
    {
     "data": {
      "text/plain": [
       "False"
      ]
     },
     "execution_count": 201,
     "metadata": {},
     "output_type": "execute_result"
    }
   ],
   "source": [
    "conta_do_guilherme < conta_do_guilherme"
   ]
  },
  {
   "cell_type": "code",
   "execution_count": 202,
   "metadata": {},
   "outputs": [
    {
     "data": {
      "text/plain": [
       "True"
      ]
     },
     "execution_count": 202,
     "metadata": {},
     "output_type": "execute_result"
    }
   ],
   "source": [
    "conta_do_guilherme == conta_do_guilherme"
   ]
  },
  {
   "cell_type": "code",
   "execution_count": 207,
   "metadata": {},
   "outputs": [
    {
     "data": {
      "text/plain": [
       "True"
      ]
     },
     "execution_count": 207,
     "metadata": {},
     "output_type": "execute_result"
    }
   ],
   "source": [
    "conta_do_guilherme <= conta_do_guilherme"
   ]
  },
  {
   "cell_type": "code",
   "execution_count": null,
   "metadata": {},
   "outputs": [],
   "source": []
  }
 ],
 "metadata": {
  "kernelspec": {
   "display_name": "Python 3",
   "language": "python",
   "name": "python3"
  }
 },
 "nbformat": 4,
 "nbformat_minor": 2
}
